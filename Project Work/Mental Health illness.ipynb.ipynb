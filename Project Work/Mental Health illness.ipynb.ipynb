{
  "cells": [
    {
      "cell_type": "markdown",
      "metadata": {
        "id": "HKU7gCyrUL1J"
      },
      "source": [
        "#Library and Data Loading"
      ]
    },
    {
      "cell_type": "code",
      "execution_count": null,
      "metadata": {
        "id": "JaSY8PmhMoK8"
      },
      "outputs": [],
      "source": [
        "import numpy as np\n",
        "import pandas as pd\n",
        "import matplotlib.pyplot as plt\n",
        "import seaborn as sns\n",
        "\n",
        "from scipy import stats\n",
        "from scipy.stats import randint\n",
        "\n",
        "# prep\n",
        "from sklearn.model_selection import train_test_split\n",
        "from sklearn import preprocessing\n",
        "from sklearn.datasets import make_classification\n",
        "from sklearn.preprocessing import binarize, LabelEncoder, MinMaxScaler\n",
        "\n",
        "# models\n",
        "from sklearn.linear_model import LogisticRegression\n",
        "from sklearn.tree import DecisionTreeClassifier\n",
        "from sklearn.ensemble import RandomForestClassifier, ExtraTreesClassifier\n",
        "\n",
        "# Validation libraries\n",
        "from sklearn import metrics\n",
        "from sklearn.metrics import accuracy_score, mean_squared_error, precision_recall_curve\n",
        "from sklearn.model_selection import cross_val_score\n",
        "\n",
        "#Neural Network\n",
        "from sklearn.neural_network import MLPClassifier\n",
        "from sklearn.model_selection import RandomizedSearchCV\n",
        "\n",
        "#Bagging\n",
        "from sklearn.ensemble import BaggingClassifier, AdaBoostClassifier\n",
        "from sklearn.neighbors import KNeighborsClassifier\n",
        "\n",
        "#Naive bayes\n",
        "from sklearn.naive_bayes import GaussianNB\n",
        "\n",
        "#Stacking\n",
        "from mlxtend.classifier import StackingClassifier"
      ]
    },
    {
      "cell_type": "code",
      "execution_count": null,
      "metadata": {
        "colab": {
          "background_save": true,
          "base_uri": "https://localhost:8080/"
        },
        "id": "5XbrHhtLU8B4",
        "outputId": "0feabb81-709a-4bbd-defe-6e281f95b032"
      },
      "outputs": [
        {
          "data": {
            "text/html": [
              "\n",
              "     <input type=\"file\" id=\"files-19a6c4cf-8b5d-44aa-b5ea-3d044d364353\" name=\"files[]\" multiple disabled\n",
              "        style=\"border:none\" />\n",
              "     <output id=\"result-19a6c4cf-8b5d-44aa-b5ea-3d044d364353\">\n",
              "      Upload widget is only available when the cell has been executed in the\n",
              "      current browser session. Please rerun this cell to enable.\n",
              "      </output>\n",
              "      <script>// Copyright 2017 Google LLC\n",
              "//\n",
              "// Licensed under the Apache License, Version 2.0 (the \"License\");\n",
              "// you may not use this file except in compliance with the License.\n",
              "// You may obtain a copy of the License at\n",
              "//\n",
              "//      http://www.apache.org/licenses/LICENSE-2.0\n",
              "//\n",
              "// Unless required by applicable law or agreed to in writing, software\n",
              "// distributed under the License is distributed on an \"AS IS\" BASIS,\n",
              "// WITHOUT WARRANTIES OR CONDITIONS OF ANY KIND, either express or implied.\n",
              "// See the License for the specific language governing permissions and\n",
              "// limitations under the License.\n",
              "\n",
              "/**\n",
              " * @fileoverview Helpers for google.colab Python module.\n",
              " */\n",
              "(function(scope) {\n",
              "function span(text, styleAttributes = {}) {\n",
              "  const element = document.createElement('span');\n",
              "  element.textContent = text;\n",
              "  for (const key of Object.keys(styleAttributes)) {\n",
              "    element.style[key] = styleAttributes[key];\n",
              "  }\n",
              "  return element;\n",
              "}\n",
              "\n",
              "// Max number of bytes which will be uploaded at a time.\n",
              "const MAX_PAYLOAD_SIZE = 100 * 1024;\n",
              "\n",
              "function _uploadFiles(inputId, outputId) {\n",
              "  const steps = uploadFilesStep(inputId, outputId);\n",
              "  const outputElement = document.getElementById(outputId);\n",
              "  // Cache steps on the outputElement to make it available for the next call\n",
              "  // to uploadFilesContinue from Python.\n",
              "  outputElement.steps = steps;\n",
              "\n",
              "  return _uploadFilesContinue(outputId);\n",
              "}\n",
              "\n",
              "// This is roughly an async generator (not supported in the browser yet),\n",
              "// where there are multiple asynchronous steps and the Python side is going\n",
              "// to poll for completion of each step.\n",
              "// This uses a Promise to block the python side on completion of each step,\n",
              "// then passes the result of the previous step as the input to the next step.\n",
              "function _uploadFilesContinue(outputId) {\n",
              "  const outputElement = document.getElementById(outputId);\n",
              "  const steps = outputElement.steps;\n",
              "\n",
              "  const next = steps.next(outputElement.lastPromiseValue);\n",
              "  return Promise.resolve(next.value.promise).then((value) => {\n",
              "    // Cache the last promise value to make it available to the next\n",
              "    // step of the generator.\n",
              "    outputElement.lastPromiseValue = value;\n",
              "    return next.value.response;\n",
              "  });\n",
              "}\n",
              "\n",
              "/**\n",
              " * Generator function which is called between each async step of the upload\n",
              " * process.\n",
              " * @param {string} inputId Element ID of the input file picker element.\n",
              " * @param {string} outputId Element ID of the output display.\n",
              " * @return {!Iterable<!Object>} Iterable of next steps.\n",
              " */\n",
              "function* uploadFilesStep(inputId, outputId) {\n",
              "  const inputElement = document.getElementById(inputId);\n",
              "  inputElement.disabled = false;\n",
              "\n",
              "  const outputElement = document.getElementById(outputId);\n",
              "  outputElement.innerHTML = '';\n",
              "\n",
              "  const pickedPromise = new Promise((resolve) => {\n",
              "    inputElement.addEventListener('change', (e) => {\n",
              "      resolve(e.target.files);\n",
              "    });\n",
              "  });\n",
              "\n",
              "  const cancel = document.createElement('button');\n",
              "  inputElement.parentElement.appendChild(cancel);\n",
              "  cancel.textContent = 'Cancel upload';\n",
              "  const cancelPromise = new Promise((resolve) => {\n",
              "    cancel.onclick = () => {\n",
              "      resolve(null);\n",
              "    };\n",
              "  });\n",
              "\n",
              "  // Wait for the user to pick the files.\n",
              "  const files = yield {\n",
              "    promise: Promise.race([pickedPromise, cancelPromise]),\n",
              "    response: {\n",
              "      action: 'starting',\n",
              "    }\n",
              "  };\n",
              "\n",
              "  cancel.remove();\n",
              "\n",
              "  // Disable the input element since further picks are not allowed.\n",
              "  inputElement.disabled = true;\n",
              "\n",
              "  if (!files) {\n",
              "    return {\n",
              "      response: {\n",
              "        action: 'complete',\n",
              "      }\n",
              "    };\n",
              "  }\n",
              "\n",
              "  for (const file of files) {\n",
              "    const li = document.createElement('li');\n",
              "    li.append(span(file.name, {fontWeight: 'bold'}));\n",
              "    li.append(span(\n",
              "        `(${file.type || 'n/a'}) - ${file.size} bytes, ` +\n",
              "        `last modified: ${\n",
              "            file.lastModifiedDate ? file.lastModifiedDate.toLocaleDateString() :\n",
              "                                    'n/a'} - `));\n",
              "    const percent = span('0% done');\n",
              "    li.appendChild(percent);\n",
              "\n",
              "    outputElement.appendChild(li);\n",
              "\n",
              "    const fileDataPromise = new Promise((resolve) => {\n",
              "      const reader = new FileReader();\n",
              "      reader.onload = (e) => {\n",
              "        resolve(e.target.result);\n",
              "      };\n",
              "      reader.readAsArrayBuffer(file);\n",
              "    });\n",
              "    // Wait for the data to be ready.\n",
              "    let fileData = yield {\n",
              "      promise: fileDataPromise,\n",
              "      response: {\n",
              "        action: 'continue',\n",
              "      }\n",
              "    };\n",
              "\n",
              "    // Use a chunked sending to avoid message size limits. See b/62115660.\n",
              "    let position = 0;\n",
              "    do {\n",
              "      const length = Math.min(fileData.byteLength - position, MAX_PAYLOAD_SIZE);\n",
              "      const chunk = new Uint8Array(fileData, position, length);\n",
              "      position += length;\n",
              "\n",
              "      const base64 = btoa(String.fromCharCode.apply(null, chunk));\n",
              "      yield {\n",
              "        response: {\n",
              "          action: 'append',\n",
              "          file: file.name,\n",
              "          data: base64,\n",
              "        },\n",
              "      };\n",
              "\n",
              "      let percentDone = fileData.byteLength === 0 ?\n",
              "          100 :\n",
              "          Math.round((position / fileData.byteLength) * 100);\n",
              "      percent.textContent = `${percentDone}% done`;\n",
              "\n",
              "    } while (position < fileData.byteLength);\n",
              "  }\n",
              "\n",
              "  // All done.\n",
              "  yield {\n",
              "    response: {\n",
              "      action: 'complete',\n",
              "    }\n",
              "  };\n",
              "}\n",
              "\n",
              "scope.google = scope.google || {};\n",
              "scope.google.colab = scope.google.colab || {};\n",
              "scope.google.colab._files = {\n",
              "  _uploadFiles,\n",
              "  _uploadFilesContinue,\n",
              "};\n",
              "})(self);\n",
              "</script> "
            ],
            "text/plain": [
              "<IPython.core.display.HTML object>"
            ]
          },
          "metadata": {},
          "output_type": "display_data"
        }
      ],
      "source": [
        "from google.colab import files\n",
        "uploaded = files.upload()"
      ]
    },
    {
      "cell_type": "code",
      "execution_count": null,
      "metadata": {
        "id": "KIVsuSklXTWM"
      },
      "outputs": [],
      "source": [
        "train_df = pd.read_csv('survey.csv')\n",
        "print(train_df.shape)\n",
        "print(train_df.describe())\n",
        "print(train_df.info())"
      ]
    },
    {
      "cell_type": "markdown",
      "metadata": {
        "id": "ZPKx4y5QX5by"
      },
      "source": [
        "#Data Cleaning"
      ]
    },
    {
      "cell_type": "code",
      "execution_count": null,
      "metadata": {
        "id": "nGGtUHo5XzvX"
      },
      "outputs": [],
      "source": [
        "#missing data\n",
        "total = train_df.isnull().sum().sort_values(ascending=False)\n",
        "percent = (train_df.isnull().sum()/train_df.isnull().count()).sort_values(ascending=False)\n",
        "missing_data = pd.concat([total, percent], axis=1, keys=['Total', 'Percent'])\n",
        "missing_data.head(20)\n",
        "print(missing_data)"
      ]
    },
    {
      "cell_type": "code",
      "execution_count": null,
      "metadata": {
        "id": "EZL7prT6X-7T"
      },
      "outputs": [],
      "source": [
        "#dealing with missing data\n",
        "train_df.drop(['comments'], axis= 1, inplace=True)\n",
        "train_df.drop(['state'], axis= 1, inplace=True)\n",
        "train_df.drop(['Timestamp'], axis= 1, inplace=True)\n",
        "\n",
        "train_df.isnull().sum().max() #just checking that there's no missing data missing...\n",
        "train_df.head(5)"
      ]
    },
    {
      "cell_type": "markdown",
      "metadata": {
        "id": "JEJ01-IbYagP"
      },
      "source": [
        "Cleaning NaN"
      ]
    },
    {
      "cell_type": "code",
      "execution_count": null,
      "metadata": {
        "id": "hI4SbkGXYTp_"
      },
      "outputs": [],
      "source": [
        "# Assign default values for each data type\n",
        "defaultInt = 0\n",
        "defaultString = 'NaN'\n",
        "defaultFloat = 0.0\n",
        "\n",
        "# Create lists by data tpe\n",
        "intFeatures = ['Age']\n",
        "stringFeatures = ['Gender', 'Country', 'self_employed', 'family_history', 'treatment', 'work_interfere',\n",
        "                 'no_employees', 'remote_work', 'tech_company', 'anonymity', 'leave', 'mental_health_consequence',\n",
        "                 'phys_health_consequence', 'coworkers', 'supervisor', 'mental_health_interview', 'phys_health_interview',\n",
        "                 'mental_vs_physical', 'obs_consequence', 'benefits', 'care_options', 'wellness_program',\n",
        "                 'seek_help']\n",
        "floatFeatures = []\n",
        "\n",
        "# Clean the NaN's\n",
        "for feature in train_df:\n",
        "    if feature in intFeatures:\n",
        "        train_df[feature] = train_df[feature].fillna(defaultInt)\n",
        "    elif feature in stringFeatures:\n",
        "        train_df[feature] = train_df[feature].fillna(defaultString)\n",
        "    elif feature in floatFeatures:\n",
        "        train_df[feature] = train_df[feature].fillna(defaultFloat)\n",
        "    else:\n",
        "        print('Error: Feature %s not recognized.' % feature)\n",
        "train_df.head()"
      ]
    },
    {
      "cell_type": "code",
      "execution_count": null,
      "metadata": {
        "id": "DAgJLUoBYzHI"
      },
      "outputs": [],
      "source": [
        "#Clean 'Gender'\n",
        "gender = train_df['Gender'].unique()\n",
        "print(gender)"
      ]
    },
    {
      "cell_type": "code",
      "execution_count": null,
      "metadata": {
        "id": "ci8qNBlHZWjt"
      },
      "outputs": [],
      "source": [
        "#Made gender groups\n",
        "male_str = [\"male\", \"m\", \"male-ish\", \"maile\", \"mal\", \"male (cis)\", \"make\", \"male \", \"man\",\"msle\", \"mail\", \"malr\",\"cis man\", \"Cis Male\", \"cis male\"]\n",
        "trans_str = [\"trans-female\", \"something kinda male?\", \"queer/she/they\", \"non-binary\",\"nah\", \"all\", \"enby\", \"fluid\", \"genderqueer\", \"androgyne\", \"agender\", \"male leaning androgynous\", \"guy (-ish) ^_^\", \"trans woman\", \"neuter\", \"female (trans)\", \"queer\", \"ostensibly male, unsure what that really means\"]\n",
        "female_str = [\"cis female\", \"f\", \"female\", \"woman\",  \"femake\", \"female \",\"cis-female/femme\", \"female (cis)\", \"femail\"]\n",
        "\n",
        "for (row, col) in train_df.iterrows():\n",
        "\n",
        "    if str.lower(col.Gender) in male_str:\n",
        "        train_df['Gender'].replace(to_replace=col.Gender, value='male', inplace=True)\n",
        "\n",
        "    if str.lower(col.Gender) in female_str:\n",
        "        train_df['Gender'].replace(to_replace=col.Gender, value='female', inplace=True)\n",
        "\n",
        "    if str.lower(col.Gender) in trans_str:\n",
        "        train_df['Gender'].replace(to_replace=col.Gender, value='trans', inplace=True)\n",
        "\n",
        "#Get rid of bullshit\n",
        "stk_list = ['A little about you', 'p']\n",
        "train_df = train_df[~train_df['Gender'].isin(stk_list)]\n",
        "\n",
        "print(train_df['Gender'].unique())"
      ]
    },
    {
      "cell_type": "code",
      "execution_count": null,
      "metadata": {
        "id": "LytRp-MiZ3WM"
      },
      "outputs": [],
      "source": [
        "#complete missing age with mean\n",
        "train_df['Age'].fillna(train_df['Age'].median(), inplace = True)\n",
        "\n",
        "# Fill with media() values < 18 and > 120\n",
        "s = pd.Series(train_df['Age'])\n",
        "s[s<18] = train_df['Age'].median()\n",
        "train_df['Age'] = s\n",
        "s = pd.Series(train_df['Age'])\n",
        "s[s>120] = train_df['Age'].median()\n",
        "train_df['Age'] = s\n",
        "\n",
        "#Ranges of Age\n",
        "train_df['age_range'] = pd.cut(train_df['Age'], [0,20,30,65,100], labels=[\"0-20\", \"21-30\", \"31-65\", \"66-100\"], include_lowest=True)"
      ]
    },
    {
      "cell_type": "code",
      "execution_count": null,
      "metadata": {
        "id": "-a4jIjqfaAsQ"
      },
      "outputs": [],
      "source": [
        "#There are only 0.014% of self employed so let's change NaN to NOT self_employed\n",
        "#Replace \"NaN\" string from defaultString\n",
        "train_df['self_employed'] = train_df['self_employed'].replace([defaultString], 'No')\n",
        "print(train_df['self_employed'].unique())"
      ]
    },
    {
      "cell_type": "code",
      "execution_count": null,
      "metadata": {
        "id": "dlH2JMtjaI96"
      },
      "outputs": [],
      "source": [
        "#There are only 0.20% of self work_interfere so let's change NaN to \"Don't know\n",
        "#Replace \"NaN\" string from defaultString\n",
        "\n",
        "train_df['work_interfere'] = train_df['work_interfere'].replace([defaultString], 'Don\\'t know' )\n",
        "print(train_df['work_interfere'].unique())"
      ]
    },
    {
      "cell_type": "markdown",
      "metadata": {
        "id": "vU9sRPnQaP2D"
      },
      "source": [
        "#Encoding Data"
      ]
    },
    {
      "cell_type": "code",
      "execution_count": null,
      "metadata": {
        "id": "VrFCOYpSaNrL"
      },
      "outputs": [],
      "source": [
        "#Encoding data\n",
        "labelDict = {}\n",
        "for feature in train_df:\n",
        "    le = preprocessing.LabelEncoder()\n",
        "    le.fit(train_df[feature])\n",
        "    le_name_mapping = dict(zip(le.classes_, le.transform(le.classes_)))\n",
        "    train_df[feature] = le.transform(train_df[feature])\n",
        "    # Get labels\n",
        "    labelKey = 'label_' + feature\n",
        "    labelValue = [*le_name_mapping]\n",
        "    labelDict[labelKey] =labelValue\n",
        "\n",
        "for key, value in labelDict.items():\n",
        "    print(key, value)"
      ]
    },
    {
      "cell_type": "code",
      "execution_count": null,
      "metadata": {
        "id": "3eBE2WLmaX96"
      },
      "outputs": [],
      "source": [
        "#Get rid of 'Country'\n",
        "train_df = train_df.drop(['Country'], axis= 1)\n",
        "train_df.head()"
      ]
    },
    {
      "cell_type": "markdown",
      "metadata": {
        "id": "4DNKbr_TajZa"
      },
      "source": [
        "Testing there aren't any missing data"
      ]
    },
    {
      "cell_type": "code",
      "execution_count": null,
      "metadata": {
        "id": "cxlJqy9KadVC"
      },
      "outputs": [],
      "source": [
        "#missing data\n",
        "total = train_df.isnull().sum().sort_values(ascending=False)\n",
        "percent = (train_df.isnull().sum()/train_df.isnull().count()).sort_values(ascending=False)\n",
        "missing_data = pd.concat([total, percent], axis=1, keys=['Total', 'Percent'])\n",
        "missing_data.head(20)\n",
        "print(missing_data)"
      ]
    },
    {
      "cell_type": "markdown",
      "metadata": {
        "id": "UERrfJsnatzt"
      },
      "source": [
        "Features Scaling: We're going to scale age, because it is extremely different from the other ones."
      ]
    },
    {
      "cell_type": "markdown",
      "metadata": {
        "id": "BoJ-Ori9avcR"
      },
      "source": [
        "#Covariance Matrix. Variability comparison between categories of variables"
      ]
    },
    {
      "cell_type": "code",
      "execution_count": null,
      "metadata": {
        "id": "INZUJIV0antX"
      },
      "outputs": [],
      "source": [
        "#correlation matrix\n",
        "corrmat = train_df.corr()\n",
        "f, ax = plt.subplots(figsize=(12, 9))\n",
        "sns.heatmap(corrmat, vmax=.8, square=True);\n",
        "plt.show()"
      ]
    },
    {
      "cell_type": "code",
      "execution_count": null,
      "metadata": {
        "id": "Hg1Y03-5bCVb"
      },
      "outputs": [],
      "source": [
        "#treatment correlation matrix\n",
        "k = 10 #number of variables for heatmap\n",
        "cols = corrmat.nlargest(k, 'treatment')['treatment'].index\n",
        "cm = np.corrcoef(train_df[cols].values.T)\n",
        "sns.set(font_scale=1.25)\n",
        "hm = sns.heatmap(cm, cbar=True, annot=True, square=True, fmt='.2f', annot_kws={'size': 10}, yticklabels=cols.values, xticklabels=cols.values)\n",
        "plt.show()"
      ]
    },
    {
      "cell_type": "markdown",
      "metadata": {
        "id": "dFd3XHrUbpj_"
      },
      "source": [
        "#Some charts to see data relationship"
      ]
    },
    {
      "cell_type": "markdown",
      "metadata": {
        "id": "nf2HeCribtJ4"
      },
      "source": [
        "**Distribution** and density by Age"
      ]
    },
    {
      "cell_type": "code",
      "execution_count": null,
      "metadata": {
        "id": "geuI-6OMbGez"
      },
      "outputs": [],
      "source": [
        "# Distribution and density by Age\n",
        "plt.figure(figsize=(12,8))\n",
        "sns.distplot(train_df[\"Age\"], bins=24)\n",
        "plt.title(\"Distribution and density by Age\")\n",
        "plt.xlabel(\"Age\")"
      ]
    },
    {
      "cell_type": "markdown",
      "metadata": {
        "id": "laO_IxDPb2cg"
      },
      "source": [
        "Separate by treatment"
      ]
    },
    {
      "cell_type": "code",
      "execution_count": null,
      "metadata": {
        "id": "fbpapqAAbxDh"
      },
      "outputs": [],
      "source": [
        "g = sns.FacetGrid(train_df, col='treatment', size=5)\n",
        "g = g.map(sns.distplot, \"Age\")"
      ]
    },
    {
      "cell_type": "markdown",
      "metadata": {
        "id": "gx9Jwxbwb-Pl"
      },
      "source": [
        "How many people has been treated?"
      ]
    },
    {
      "cell_type": "code",
      "execution_count": null,
      "metadata": {
        "id": "syKkijhCb5tk"
      },
      "outputs": [],
      "source": [
        "plt.figure(figsize=(12,8))\n",
        "labels = labelDict['label_Gender']\n",
        "g = sns.countplot(x=\"treatment\", data=train_df)\n",
        "g.set_xticklabels(labels)\n",
        "\n",
        "plt.title('Total Distribution by treated or not')"
      ]
    },
    {
      "cell_type": "markdown",
      "metadata": {
        "id": "Y9h-iNvccKcD"
      },
      "source": [
        "Nested barplot to show probabilities for class and sex"
      ]
    },
    {
      "cell_type": "code",
      "execution_count": null,
      "metadata": {
        "id": "yZli5FghcBwt"
      },
      "outputs": [],
      "source": [
        "o = labelDict['label_age_range']\n",
        "\n",
        "g = sns.factorplot(x=\"age_range\", y=\"treatment\", hue=\"Gender\", data=train_df, kind=\"bar\",  ci=None, size=5, aspect=2, legend_out = True)\n",
        "g.set_xticklabels(o)\n",
        "\n",
        "plt.title('Probability of mental health condition')\n",
        "plt.ylabel('Probability x 100')\n",
        "plt.xlabel('Age')\n",
        "# replace legend labels\n",
        "\n",
        "new_labels = labelDict['label_Gender']\n",
        "for t, l in zip(g._legend.texts, new_labels): t.set_text(l)\n",
        "\n",
        "# Positioning the legend\n",
        "g.fig.subplots_adjust(top=0.9,right=0.8)\n",
        "\n",
        "plt.show()"
      ]
    },
    {
      "cell_type": "markdown",
      "metadata": {
        "id": "DmthbxoXcYE1"
      },
      "source": [
        "Barplot to show probabilities for family history"
      ]
    },
    {
      "cell_type": "code",
      "execution_count": null,
      "metadata": {
        "id": "UoUsvFVRcPe2"
      },
      "outputs": [],
      "source": [
        "o = labelDict['label_family_history']\n",
        "g = sns.factorplot(x=\"family_history\", y=\"treatment\", hue=\"Gender\", data=train_df, kind=\"bar\", ci=None, size=5, aspect=2, legend_out = True)\n",
        "g.set_xticklabels(o)\n",
        "plt.title('Probability of mental health condition')\n",
        "plt.ylabel('Probability x 100')\n",
        "plt.xlabel('Family History')\n",
        "\n",
        "# replace legend labels\n",
        "new_labels = labelDict['label_Gender']\n",
        "for t, l in zip(g._legend.texts, new_labels): t.set_text(l)\n",
        "\n",
        "# Positioning the legend\n",
        "g.fig.subplots_adjust(top=0.9,right=0.8)\n",
        "\n",
        "plt.show()"
      ]
    },
    {
      "cell_type": "markdown",
      "metadata": {
        "id": "Fqj4LICwcgrN"
      },
      "source": [
        "Barplot to show probabilities for care options"
      ]
    },
    {
      "cell_type": "code",
      "execution_count": null,
      "metadata": {
        "id": "pKB-tQO3cbq_"
      },
      "outputs": [],
      "source": [
        "o = labelDict['label_care_options']\n",
        "g = sns.factorplot(x=\"care_options\", y=\"treatment\", hue=\"Gender\", data=train_df, kind=\"bar\", ci=None, size=5, aspect=2, legend_out = True)\n",
        "g.set_xticklabels(o)\n",
        "plt.title('Probability of mental health condition')\n",
        "plt.ylabel('Probability x 100')\n",
        "plt.xlabel('Care options')\n",
        "\n",
        "# replace legend labels\n",
        "new_labels = labelDict['label_Gender']\n",
        "for t, l in zip(g._legend.texts, new_labels): t.set_text(l)\n",
        "\n",
        "# Positioning the legend\n",
        "g.fig.subplots_adjust(top=0.9,right=0.8)\n",
        "plt.show()"
      ]
    },
    {
      "cell_type": "markdown",
      "metadata": {
        "id": "oukVHMQwcozL"
      },
      "source": [
        "Barplot to show probabilities for benefits\n",
        "\n"
      ]
    },
    {
      "cell_type": "code",
      "execution_count": null,
      "metadata": {
        "id": "cW3ykFSYckMt"
      },
      "outputs": [],
      "source": [
        "o = labelDict['label_benefits']\n",
        "g = sns.factorplot(x=\"care_options\", y=\"treatment\", hue=\"Gender\", data=train_df, kind=\"bar\", ci=None, size=5, aspect=2, legend_out = True)\n",
        "g.set_xticklabels(o)\n",
        "plt.title('Probability of mental health condition')\n",
        "plt.ylabel('Probability x 100')\n",
        "plt.xlabel('Benefits')\n",
        "\n",
        "# replace legend labels\n",
        "new_labels = labelDict['label_Gender']\n",
        "for t, l in zip(g._legend.texts, new_labels): t.set_text(l)\n",
        "\n",
        "# Positioning the legend\n",
        "g.fig.subplots_adjust(top=0.9,right=0.8)\n",
        "plt.show()"
      ]
    },
    {
      "cell_type": "markdown",
      "metadata": {
        "id": "B6CnGdrrcwqU"
      },
      "source": [
        "Barplot to show probabilities for work interfere\n",
        "\n"
      ]
    },
    {
      "cell_type": "code",
      "execution_count": null,
      "metadata": {
        "id": "RQVddZv3ctIZ"
      },
      "outputs": [],
      "source": [
        "o = labelDict['label_work_interfere']\n",
        "g = sns.factorplot(x=\"work_interfere\", y=\"treatment\", hue=\"Gender\", data=train_df, kind=\"bar\", ci=None, size=5, aspect=2, legend_out = True)\n",
        "g.set_xticklabels(o)\n",
        "plt.title('Probability of mental health condition')\n",
        "plt.ylabel('Probability x 100')\n",
        "plt.xlabel('Work interfere')\n",
        "\n",
        "# replace legend labels\n",
        "new_labels = labelDict['label_Gender']\n",
        "for t, l in zip(g._legend.texts, new_labels): t.set_text(l)\n",
        "\n",
        "# Positioning the legend\n",
        "g.fig.subplots_adjust(top=0.9,right=0.8)\n",
        "plt.show()"
      ]
    },
    {
      "cell_type": "markdown",
      "metadata": {
        "id": "CaJjYfbtc7S3"
      },
      "source": [
        "#Scaling and Fitting"
      ]
    },
    {
      "cell_type": "markdown",
      "metadata": {
        "id": "eSN4p5CWc_4z"
      },
      "source": [
        "Features Scaling We're going to scale age, because is extremely different from the othere ones.\n",
        "\n"
      ]
    },
    {
      "cell_type": "code",
      "execution_count": null,
      "metadata": {
        "id": "E8CEx69mc0Ff"
      },
      "outputs": [],
      "source": [
        "# Scaling Age\n",
        "scaler = MinMaxScaler()\n",
        "train_df['Age'] = scaler.fit_transform(train_df[['Age']])\n",
        "train_df.head()"
      ]
    },
    {
      "cell_type": "markdown",
      "metadata": {
        "id": "emP7M76leCr2"
      },
      "source": [
        "Spilitting Dataset"
      ]
    },
    {
      "cell_type": "code",
      "execution_count": null,
      "metadata": {
        "id": "d4PCK9kudFlM"
      },
      "outputs": [],
      "source": [
        "# define X and y\n",
        "feature_cols = ['Age', 'Gender', 'family_history', 'benefits', 'care_options', 'anonymity', 'leave', 'work_interfere']\n",
        "X = train_df[feature_cols]\n",
        "y = train_df.treatment\n",
        "\n",
        "# split X and y into training and testing sets\n",
        "X_train, X_test, y_train, y_test = train_test_split(X, y, test_size=0.30, random_state=0)\n",
        "\n",
        "# Create dictionaries for final graph\n",
        "# Use: methodDict['Stacking'] = accuracy_score\n",
        "methodDict = {}\n",
        "rmseDict = ()"
      ]
    },
    {
      "cell_type": "code",
      "execution_count": null,
      "metadata": {
        "id": "DJ-Fn4EeeJ7v"
      },
      "outputs": [],
      "source": [
        "# Build a forest and compute the feature importances\n",
        "forest = ExtraTreesClassifier(n_estimators=250,\n",
        "                              random_state=0)\n",
        "\n",
        "forest.fit(X, y)\n",
        "importances = forest.feature_importances_\n",
        "std = np.std([tree.feature_importances_ for tree in forest.estimators_],\n",
        "             axis=0)\n",
        "indices = np.argsort(importances)[::-1]\n",
        "\n",
        "labels = []\n",
        "for f in range(X.shape[1]):\n",
        "    labels.append(feature_cols[f])\n",
        "\n",
        "# Plot the feature importances of the forest\n",
        "plt.figure(figsize=(12,8))\n",
        "plt.title(\"Feature importances\")\n",
        "plt.bar(range(X.shape[1]), importances[indices],\n",
        "       color=\"r\", yerr=std[indices], align=\"center\")\n",
        "plt.xticks(range(X.shape[1]), labels, rotation='vertical')\n",
        "plt.xlim([-1, X.shape[1]])\n",
        "plt.show()"
      ]
    },
    {
      "cell_type": "markdown",
      "metadata": {
        "id": "J2wG6BfSeSVo"
      },
      "source": [
        "#Tuning"
      ]
    },
    {
      "cell_type": "code",
      "execution_count": null,
      "metadata": {
        "id": "rqq2ECp2eOKh"
      },
      "outputs": [],
      "source": [
        "def evalClassModel(model, y_test, y_pred_class, plot=False):\n",
        "    #Classification accuracy: percentage of correct predictions\n",
        "    # calculate accuracy\n",
        "    print('Accuracy:', metrics.accuracy_score(y_test, y_pred_class))\n",
        "\n",
        "    #Null accuracy: accuracy that could be achieved by always predicting the most frequent class\n",
        "    # examine the class distribution of the testing set (using a Pandas Series method)\n",
        "    print('Null accuracy:\\n', y_test.value_counts())\n",
        "\n",
        "    # calculate the percentage of ones\n",
        "    print('Percentage of ones:', y_test.mean())\n",
        "\n",
        "    # calculate the percentage of zeros\n",
        "    print('Percentage of zeros:',1 - y_test.mean())\n",
        "\n",
        "    #Comparing the true and predicted response values\n",
        "    print('True:', y_test.values[0:25])\n",
        "    print('Pred:', y_pred_class[0:25])\n",
        "\n",
        "    #Confusion matrix\n",
        "    # save confusion matrix and slice into four pieces\n",
        "    confusion = metrics.confusion_matrix(y_test, y_pred_class)\n",
        "    #[row, column]\n",
        "    TP = confusion[1, 1]\n",
        "    TN = confusion[0, 0]\n",
        "    FP = confusion[0, 1]\n",
        "    FN = confusion[1, 0]\n",
        "\n",
        "    # visualize Confusion Matrix\n",
        "    sns.heatmap(confusion,annot=True,fmt=\"d\")\n",
        "    plt.title('Confusion Matrix')\n",
        "    plt.xlabel('Predicted')\n",
        "    plt.ylabel('Actual')\n",
        "    plt.show()\n",
        "\n",
        "    #Metrics computed from a confusion matrix\n",
        "    #Classification Accuracy: Overall, how often is the classifier correct?\n",
        "    accuracy = metrics.accuracy_score(y_test, y_pred_class)\n",
        "    print('Classification Accuracy:', accuracy)\n",
        "\n",
        "    #Classification Error: Overall, how often is the classifier incorrect?\n",
        "    print('Classification Error:', 1 - metrics.accuracy_score(y_test, y_pred_class))\n",
        "\n",
        "    #False Positive Rate: When the actual value is negative, how often is the prediction incorrect?\n",
        "    false_positive_rate = FP / float(TN + FP)\n",
        "    print('False Positive Rate:', false_positive_rate)\n",
        "\n",
        "    #Precision: When a positive value is predicted, how often is the prediction correct?\n",
        "    print('Precision:', metrics.precision_score(y_test, y_pred_class))\n",
        "\n",
        "\n",
        "    # IMPORTANT: first argument is true values, second argument is predicted probabilities\n",
        "    print('AUC Score:', metrics.roc_auc_score(y_test, y_pred_class))\n",
        "\n",
        "    # calculate cross-validated AUC\n",
        "    print('Cross-validated AUC:', cross_val_score(model, X, y, cv=10, scoring='roc_auc').mean())\n",
        "\n",
        "    ##########################################\n",
        "    #Adjusting the classification threshold\n",
        "    ##########################################\n",
        "    # print the first 10 predicted responses\n",
        "    print('First 10 predicted responses:\\n', model.predict(X_test)[0:10])\n",
        "\n",
        "    # print the first 10 predicted probabilities of class membership\n",
        "    print('First 10 predicted probabilities of class members:\\n', model.predict_proba(X_test)[0:10])\n",
        "\n",
        "    # print the first 10 predicted probabilities for class 1\n",
        "    model.predict_proba(X_test)[0:10, 1]\n",
        "\n",
        "    # store the predicted probabilities for class 1\n",
        "    y_pred_prob = model.predict_proba(X_test)[:, 1]\n",
        "\n",
        "    if plot == True:\n",
        "        # histogram of predicted probabilities\n",
        "        plt.rcParams['font.size'] = 12\n",
        "        plt.hist(y_pred_prob, bins=8)\n",
        "\n",
        "        # x-axis limit from 0 to 1\n",
        "        plt.xlim(0,1)\n",
        "        plt.title('Histogram of predicted probabilities')\n",
        "        plt.xlabel('Predicted probability of treatment')\n",
        "        plt.ylabel('Frequency')\n",
        "\n",
        "\n",
        "    # predict treatment if the predicted probability is greater than 0.3\n",
        "    # it will return 1 for all values above 0.3 and 0 otherwise\n",
        "    # results are 2D so we slice out the first column\n",
        "    y_pred_prob = y_pred_prob.reshape(-1,1)\n",
        "    y_pred_class = binarize(y_pred_prob, 0.3)[0]\n",
        "\n",
        "    # print the first 10 predicted probabilities\n",
        "    print('First 10 predicted probabilities:\\n', y_pred_prob[0:10])\n",
        "\n",
        "    ##########################################\n",
        "    #ROC Curves and Area Under the Curve (AUC)\n",
        "    ##########################################\n",
        "\n",
        "    #AUC is the percentage of the ROC plot that is underneath the curve\n",
        "    #Higher value = better classifier\n",
        "    roc_auc = metrics.roc_auc_score(y_test, y_pred_prob)\n",
        "\n",
        "\n",
        "\n",
        "    # IMPORTANT: first argument is true values, second argument is predicted probabilities\n",
        "    # roc_curve returns 3 objects fpr, tpr, thresholds\n",
        "    # fpr: false positive rate\n",
        "    # tpr: true positive rate\n",
        "    fpr, tpr, thresholds = metrics.roc_curve(y_test, y_pred_prob)\n",
        "    if plot == True:\n",
        "        plt.figure()\n",
        "\n",
        "        plt.plot(fpr, tpr, color='darkorange', label='ROC curve (area = %0.2f)' % roc_auc)\n",
        "        plt.plot([0, 1], [0, 1], color='navy', linestyle='--')\n",
        "        plt.xlim([0.0, 1.0])\n",
        "        plt.ylim([0.0, 1.0])\n",
        "        plt.rcParams['font.size'] = 12\n",
        "        plt.title('ROC curve for treatment classifier')\n",
        "        plt.xlabel('False Positive Rate (1 - Specificity)')\n",
        "        plt.ylabel('True Positive Rate (Sensitivity)')\n",
        "        plt.legend(loc=\"lower right\")\n",
        "        plt.show()\n",
        "\n",
        "    # define a function that accepts a threshold and prints sensitivity and specificity\n",
        "    def evaluate_threshold(threshold):\n",
        "        #Sensitivity: When the actual value is positive, how often is the prediction correct?\n",
        "        #Specificity: When the actual value is negative, how often is the prediction correct?print('Sensitivity for ' + str(threshold) + ' :', tpr[thresholds > threshold][-1])\n",
        "        print('Specificity for ' + str(threshold) + ' :', 1 - fpr[thresholds > threshold][-1])\n",
        "\n",
        "    # One way of setting threshold\n",
        "    predict_mine = np.where(y_pred_prob > 0.50, 1, 0)\n",
        "    confusion = metrics.confusion_matrix(y_test, predict_mine)\n",
        "    print(confusion)\n",
        "\n",
        "\n",
        "\n",
        "    return accuracy"
      ]
    },
    {
      "cell_type": "markdown",
      "metadata": {
        "id": "y7tGbmc4fW9C"
      },
      "source": [
        "Tuning with cross validation score"
      ]
    },
    {
      "cell_type": "code",
      "execution_count": null,
      "metadata": {
        "id": "l9Y7NReefTiV"
      },
      "outputs": [],
      "source": [
        "def tuningCV(knn):\n",
        "\n",
        "    # search for an optimal value of K for KNN\n",
        "    k_range = list(range(1, 31))\n",
        "    k_scores = []\n",
        "    for k in k_range:\n",
        "        knn = KNeighborsClassifier(n_neighbors=k)\n",
        "        scores = cross_val_score(knn, X, y, cv=10, scoring='accuracy')\n",
        "        k_scores.append(scores.mean())\n",
        "    print(k_scores)\n",
        "    # plot the value of K for KNN (x-axis) versus the cross-validated accuracy (y-axis)\n",
        "    plt.plot(k_range, k_scores)\n",
        "    plt.xlabel('Value of K for KNN')\n",
        "    plt.ylabel('Cross-Validated Accuracy')\n",
        "    plt.show()"
      ]
    },
    {
      "cell_type": "markdown",
      "metadata": {
        "id": "eYytocEofeOE"
      },
      "source": [
        "Tuning with GridSearchCV"
      ]
    },
    {
      "cell_type": "code",
      "execution_count": null,
      "metadata": {
        "id": "PjE6ARIYfbkd"
      },
      "outputs": [],
      "source": [
        "def tuningGridSerach(knn):\n",
        "    #More efficient parameter tuning using GridSearchCV\n",
        "    k_range = list(range(1, 31))\n",
        "    print(k_range)\n",
        "\n",
        "    # create a parameter grid: map the parameter names to the values that should be searched\n",
        "    param_grid = dict(n_neighbors=k_range)\n",
        "    print(param_grid)\n",
        "\n",
        "    # instantiate the grid\n",
        "    grid = GridSearchCV(knn, param_grid, cv=10, scoring='accuracy')\n",
        "\n",
        "    # fit the grid with data\n",
        "    grid.fit(X, y)\n",
        "\n",
        "    # view the complete results (list of named tuples)\n",
        "    grid.grid_scores_\n",
        "\n",
        "    # examine the first tuple\n",
        "    print(grid.grid_scores_[0].parameters)\n",
        "    print(grid.grid_scores_[0].cv_validation_scores)\n",
        "    print(grid.grid_scores_[0].mean_validation_score)\n",
        "\n",
        "    # create a list of the mean scores only\n",
        "    grid_mean_scores = [result.mean_validation_score for result in grid.grid_scores_]\n",
        "    print(grid_mean_scores)\n",
        "\n",
        "    # plot the results\n",
        "    plt.plot(k_range, grid_mean_scores)\n",
        "    plt.xlabel('Value of K for KNN')\n",
        "    plt.ylabel('Cross-Validated Accuracy')\n",
        "    plt.show()\n",
        "\n",
        "    # examine the best model\n",
        "    print('GridSearch best score', grid.best_score_)\n",
        "    print('GridSearch best params', grid.best_params_)\n",
        "    print('GridSearch best estimator', grid.best_estimator_)"
      ]
    },
    {
      "cell_type": "markdown",
      "metadata": {
        "id": "pFhg6D_wfrUt"
      },
      "source": [
        "Tuning with RandomizedSearchCV"
      ]
    },
    {
      "cell_type": "code",
      "execution_count": null,
      "metadata": {
        "id": "VrfBM1XUfoxf"
      },
      "outputs": [],
      "source": [
        "def tuningRandomizedSearchCV(model, param_dist):\n",
        "    #Searching multiple parameters simultaneously\n",
        "    # n_iter controls the number of searches\n",
        "    rand = RandomizedSearchCV(model, param_dist, cv=10, scoring='accuracy', n_iter=10, random_state=5)\n",
        "    rand.fit(X, y)\n",
        "    rand.cv_results_\n",
        "\n",
        "    # examine the best model\n",
        "    print('Rand. Best Score: ', rand.best_score_)\n",
        "    print('Rand. Best Params: ', rand.best_params_)\n",
        "\n",
        "    # run RandomizedSearchCV 20 times (with n_iter=10) and record the best score\n",
        "    best_scores = []\n",
        "    for _ in range(20):\n",
        "        rand = RandomizedSearchCV(model, param_dist, cv=10, scoring='accuracy', n_iter=10)\n",
        "        rand.fit(X, y)\n",
        "        best_scores.append(round(rand.best_score_, 3))\n",
        "    print(best_scores)"
      ]
    },
    {
      "cell_type": "markdown",
      "metadata": {
        "id": "vzaS7F-vfzeV"
      },
      "source": [
        "Tuning with searching multiple parameters simultaneously"
      ]
    },
    {
      "cell_type": "code",
      "execution_count": null,
      "metadata": {
        "id": "MeSKD8Abfw94"
      },
      "outputs": [],
      "source": [
        "def tuningMultParam(knn):\n",
        "\n",
        "    #Searching multiple parameters simultaneously\n",
        "    # define the parameter values that should be searched\n",
        "    k_range = list(range(1, 31))\n",
        "    weight_options = ['uniform', 'distance']\n",
        "\n",
        "    # create a parameter grid: map the parameter names to the values that should be searched\n",
        "    param_grid = dict(n_neighbors=k_range, weights=weight_options)\n",
        "    print(param_grid)\n",
        "\n",
        "    # instantiate and fit the grid\n",
        "    grid = GridSearchCV(knn, param_grid, cv=10, scoring='accuracy')\n",
        "    grid.fit(X, y)\n",
        "\n",
        "    # view the complete results\n",
        "    print(grid.grid_scores_)\n",
        "\n",
        "    # examine the best model\n",
        "    print('Multiparam. Best Score: ', grid.best_score_)\n",
        "    print('Multiparam. Best Params: ', grid.best_params_)"
      ]
    },
    {
      "cell_type": "markdown",
      "metadata": {
        "id": "uNWD9dq3f8Ef"
      },
      "source": [
        "#Evaluating models"
      ]
    },
    {
      "cell_type": "markdown",
      "metadata": {
        "id": "_f2FmsFZf94S"
      },
      "source": [
        "Logistic Regression"
      ]
    },
    {
      "cell_type": "code",
      "execution_count": null,
      "metadata": {
        "id": "ZMZS5dMKf5vw"
      },
      "outputs": [],
      "source": [
        "def logisticRegression():\n",
        "    # train a logistic regression model on the training set\n",
        "    logreg = LogisticRegression()\n",
        "    logreg.fit(X_train, y_train)\n",
        "\n",
        "    # make class predictions for the testing set\n",
        "    y_pred_class = logreg.predict(X_test)\n",
        "\n",
        "    accuracy_score = evalClassModel(logreg, y_test, y_pred_class, True)\n",
        "\n",
        "    #Data for final graph\n",
        "    methodDict['Log. Regression'] = accuracy_score * 100\n"
      ]
    },
    {
      "cell_type": "code",
      "execution_count": null,
      "metadata": {
        "id": "LGt-pyy9gHF1"
      },
      "outputs": [],
      "source": [
        "logisticRegression()"
      ]
    },
    {
      "cell_type": "markdown",
      "metadata": {
        "id": "NPH7c5ozgQrQ"
      },
      "source": [
        "KNeighbors Classifier"
      ]
    },
    {
      "cell_type": "code",
      "execution_count": null,
      "metadata": {
        "id": "cIIpZmUkgKhz"
      },
      "outputs": [],
      "source": [
        "def Knn():\n",
        "    # Calculating the best parameters\n",
        "    knn = KNeighborsClassifier(n_neighbors=5)\n",
        "\n",
        "    # define the parameter values that should be searched\n",
        "    k_range = list(range(1, 31))\n",
        "    weight_options = ['uniform', 'distance']\n",
        "\n",
        "    # specify \"parameter distributions\" rather than a \"parameter grid\"\n",
        "    param_dist = dict(n_neighbors=k_range, weights=weight_options)\n",
        "    tuningRandomizedSearchCV(knn, param_dist)\n",
        "\n",
        "    # train a KNeighborsClassifier model on the training set\n",
        "    knn = KNeighborsClassifier(n_neighbors=27, weights='uniform')\n",
        "    knn.fit(X_train, y_train)\n",
        "\n",
        "    # make class predictions for the testing set\n",
        "    y_pred_class = knn.predict(X_test)\n",
        "\n",
        "    accuracy_score = evalClassModel(knn, y_test, y_pred_class, True)\n",
        "\n",
        "    #Data for final graph\n",
        "    methodDict['K-Neighbors'] = accuracy_score * 100"
      ]
    },
    {
      "cell_type": "code",
      "execution_count": null,
      "metadata": {
        "id": "NndcXu8LgcPZ"
      },
      "outputs": [],
      "source": [
        "Knn()"
      ]
    },
    {
      "cell_type": "markdown",
      "metadata": {
        "id": "ATF-3ODii6IE"
      },
      "source": [
        "Decision Tree classifier"
      ]
    },
    {
      "cell_type": "code",
      "execution_count": null,
      "metadata": {
        "id": "FrbzKiXQgfIk"
      },
      "outputs": [],
      "source": [
        "def treeClassifier():\n",
        "    # Calculating the best parameters\n",
        "    tree = DecisionTreeClassifier()\n",
        "    featuresSize = feature_cols.__len__()\n",
        "    param_dist = {\"max_depth\": [3, None],\n",
        "              \"max_features\": randint(1, featuresSize),\n",
        "              \"min_samples_split\": randint(2, 9),\n",
        "              \"min_samples_leaf\": randint(1, 9),\n",
        "              \"criterion\": [\"gini\", \"entropy\"]}\n",
        "    tuningRandomizedSearchCV(tree, param_dist)\n",
        "\n",
        "    # train a decision tree model on the training set\n",
        "    tree = DecisionTreeClassifier(max_depth=3, min_samples_split=8, max_features=6, criterion='entropy', min_samples_leaf=7)\n",
        "    tree.fit(X_train, y_train)\n",
        "\n",
        "    # make class predictions for the testing set\n",
        "    y_pred_class = tree.predict(X_test)\n",
        "\n",
        "    accuracy_score = evalClassModel(tree, y_test, y_pred_class, True)\n",
        "\n",
        "    #Data for final graph\n",
        "    methodDict['Decision Tree Classifier'] = accuracy_score * 100"
      ]
    },
    {
      "cell_type": "code",
      "execution_count": null,
      "metadata": {
        "id": "emMSj1I4jAus"
      },
      "outputs": [],
      "source": [
        "treeClassifier()"
      ]
    },
    {
      "cell_type": "markdown",
      "metadata": {
        "id": "SkOs4a2ajLaM"
      },
      "source": [
        "Random Forests"
      ]
    },
    {
      "cell_type": "code",
      "execution_count": null,
      "metadata": {
        "id": "_pLiMXGZjFgC"
      },
      "outputs": [],
      "source": [
        "def randomForest():\n",
        "    # Calculating the best parameters\n",
        "    forest = RandomForestClassifier(n_estimators = 20)\n",
        "\n",
        "    featuresSize = feature_cols.__len__()\n",
        "    param_dist = {\"max_depth\": [3, None],\n",
        "              \"max_features\": randint(1, featuresSize),\n",
        "              \"min_samples_split\": randint(2, 9),\n",
        "              \"min_samples_leaf\": randint(1, 9),\n",
        "              \"criterion\": [\"gini\", \"entropy\"]}\n",
        "    tuningRandomizedSearchCV(forest, param_dist)\n",
        "\n",
        "    # Building and fitting my_forest\n",
        "    forest = RandomForestClassifier(max_depth = None, min_samples_leaf=8, min_samples_split=2, n_estimators = 20, random_state = 1)\n",
        "    my_forest = forest.fit(X_train, y_train)\n",
        "\n",
        "    # make class predictions for the testing set\n",
        "    y_pred_class = my_forest.predict(X_test)\n",
        "\n",
        "    accuracy_score = evalClassModel(my_forest, y_test, y_pred_class, True)\n",
        "\n",
        "    #Data for final graph\n",
        "    methodDict['Random Forest'] = accuracy_score * 100"
      ]
    },
    {
      "cell_type": "code",
      "execution_count": null,
      "metadata": {
        "id": "2ewO8zkNjc9i"
      },
      "outputs": [],
      "source": [
        "randomForest()"
      ]
    },
    {
      "cell_type": "markdown",
      "metadata": {
        "id": "To6W9zJyjpPg"
      },
      "source": [
        "Bagging"
      ]
    },
    {
      "cell_type": "code",
      "execution_count": null,
      "metadata": {
        "id": "JYjIOqA_jhAj"
      },
      "outputs": [],
      "source": [
        "def bagging():\n",
        "    # Building and fitting\n",
        "    bag = BaggingClassifier(DecisionTreeClassifier(), max_samples=1.0, max_features=1.0, bootstrap_features=False)\n",
        "    bag.fit(X_train, y_train)\n",
        "\n",
        "    # make class predictions for the testing set\n",
        "    y_pred_class = bag.predict(X_test)\n",
        "\n",
        "    accuracy_score = evalClassModel(bag, y_test, y_pred_class, True)\n",
        "\n",
        "    #Data for final graph\n",
        "    methodDict['Bagging'] = accuracy_score * 100"
      ]
    },
    {
      "cell_type": "code",
      "execution_count": null,
      "metadata": {
        "id": "VJGVuhAXj-Ke"
      },
      "outputs": [],
      "source": [
        "bagging()"
      ]
    },
    {
      "cell_type": "markdown",
      "metadata": {
        "id": "AHaBdsSVkIxB"
      },
      "source": [
        "Boosting"
      ]
    },
    {
      "cell_type": "code",
      "execution_count": null,
      "metadata": {
        "id": "bqCNxhDAkFzl"
      },
      "outputs": [],
      "source": [
        "def boosting():\n",
        "    # Building and fitting\n",
        "    clf = DecisionTreeClassifier(criterion='entropy', max_depth=1)\n",
        "    boost = AdaBoostClassifier(base_estimator=clf, n_estimators=500)\n",
        "    boost.fit(X_train, y_train)\n",
        "\n",
        "    # make class predictions for the testing set\n",
        "    y_pred_class = boost.predict(X_test)\n",
        "\n",
        "    accuracy_score = evalClassModel(boost, y_test, y_pred_class, True)\n",
        "\n",
        "    #Data for final graph\n",
        "    methodDict['Boosting'] = accuracy_score * 100"
      ]
    },
    {
      "cell_type": "code",
      "execution_count": null,
      "metadata": {
        "id": "96ixbYvckUnU"
      },
      "outputs": [],
      "source": [
        "boosting()"
      ]
    },
    {
      "cell_type": "markdown",
      "metadata": {
        "id": "5AuofdQ4klbn"
      },
      "source": [
        "Stacking"
      ]
    },
    {
      "cell_type": "code",
      "execution_count": null,
      "metadata": {
        "id": "ER_4ukxQkcDa"
      },
      "outputs": [],
      "source": [
        "def stacking():\n",
        "    # Building and fitting\n",
        "    clf1 = KNeighborsClassifier(n_neighbors=1)\n",
        "    clf2 = RandomForestClassifier(random_state=1)\n",
        "    clf3 = GaussianNB()\n",
        "    lr = LogisticRegression()\n",
        "    stack = StackingClassifier(classifiers=[clf1, clf2, clf3], meta_classifier=lr)\n",
        "    stack.fit(X_train, y_train)\n",
        "\n",
        "    # make class predictions for the testing set\n",
        "    y_pred_class = stack.predict(X_test)\n",
        "\n",
        "    accuracy_score = evalClassModel(stack, y_test, y_pred_class, True)\n",
        "\n",
        "    #Data for final graph\n",
        "    methodDict['Stacking'] = accuracy_score * 100"
      ]
    },
    {
      "cell_type": "code",
      "execution_count": null,
      "metadata": {
        "id": "Q8996uuhkpuu"
      },
      "outputs": [],
      "source": [
        "stacking()"
      ]
    },
    {
      "cell_type": "markdown",
      "metadata": {
        "id": "t-3ZMNTqkyzV"
      },
      "source": [
        "#Predicting with Neural Network"
      ]
    },
    {
      "cell_type": "markdown",
      "metadata": {
        "id": "CudEize4lINa"
      },
      "source": [
        "Create input function"
      ]
    },
    {
      "cell_type": "code",
      "execution_count": null,
      "metadata": {
        "id": "uV5cCeJuku5Y"
      },
      "outputs": [],
      "source": [
        "%tensorflow_version 1.x\n",
        "import tensorflow as tf\n",
        "import argparse"
      ]
    },
    {
      "cell_type": "code",
      "execution_count": null,
      "metadata": {
        "id": "wVaBMhL3orLQ"
      },
      "outputs": [],
      "source": [
        "print(tf.__version__)"
      ]
    },
    {
      "cell_type": "code",
      "execution_count": null,
      "metadata": {
        "id": "052nJ7QslObk"
      },
      "outputs": [],
      "source": [
        "batch_size = 100\n",
        "train_steps = 1000\n",
        "\n",
        "X_train, X_test, y_train, y_test = train_test_split(X, y, test_size=0.30, random_state=0)\n",
        "\n",
        "def train_input_fn(features, labels, batch_size):\n",
        "    \"\"\"An input function for training\"\"\"\n",
        "    # Convert the inputs to a Dataset.\n",
        "    dataset = tf.data.Dataset.from_tensor_slices((dict(features), labels))\n",
        "\n",
        "    # Shuffle, repeat, and batch the examples.\n",
        "    return dataset.shuffle(1000).repeat().batch(batch_size)\n",
        "\n",
        "def eval_input_fn(features, labels, batch_size):\n",
        "    \"\"\"An input function for evaluation or prediction\"\"\"\n",
        "    features=dict(features)\n",
        "    if labels is None:\n",
        "        # No labels, use only features.\n",
        "        inputs = features\n",
        "    else:\n",
        "        inputs = (features, labels)\n",
        "\n",
        "    # Convert the inputs to a Dataset.\n",
        "    dataset = tf.data.Dataset.from_tensor_slices(inputs)\n",
        "\n",
        "    # Batch the examples\n",
        "    assert batch_size is not None, \"batch_size must not be None\"\n",
        "    dataset = dataset.batch(batch_size)\n",
        "\n",
        "    # Return the dataset.\n",
        "    return dataset"
      ]
    },
    {
      "cell_type": "markdown",
      "metadata": {
        "id": "LxxCxpSGlmJh"
      },
      "source": [
        "Define the feature columns"
      ]
    },
    {
      "cell_type": "code",
      "execution_count": null,
      "metadata": {
        "id": "R61A8-p5lZg3"
      },
      "outputs": [],
      "source": [
        "# Define Tensorflow feature columns\n",
        "age = tf.feature_column.numeric_column(\"Age\")\n",
        "gender = tf.feature_column.numeric_column(\"Gender\")\n",
        "family_history = tf.feature_column.numeric_column(\"family_history\")\n",
        "benefits = tf.feature_column.numeric_column(\"benefits\")\n",
        "care_options = tf.feature_column.numeric_column(\"care_options\")\n",
        "anonymity = tf.feature_column.numeric_column(\"anonymity\")\n",
        "leave = tf.feature_column.numeric_column(\"leave\")\n",
        "work_interfere = tf.feature_column.numeric_column(\"work_interfere\")\n",
        "feature_columns = [age, gender, family_history, benefits, care_options, anonymity, leave, work_interfere]"
      ]
    },
    {
      "cell_type": "markdown",
      "metadata": {
        "id": "iom0cxX3lvIv"
      },
      "source": [
        "Instantiate an Estimator"
      ]
    },
    {
      "cell_type": "code",
      "execution_count": null,
      "metadata": {
        "id": "VL70hhsblplj"
      },
      "outputs": [],
      "source": [
        "# Build a DNN with 2 hidden layers and 10 nodes in each hidden layer.\n",
        "model = tf.estimator.DNNClassifier(feature_columns=feature_columns,\n",
        "                                    hidden_units=[10, 10],\n",
        "                                    optimizer=tf.train.ProximalAdagradOptimizer(\n",
        "                                      learning_rate=0.1,\n",
        "                                      l1_regularization_strength=0.001\n",
        "                                    ))"
      ]
    },
    {
      "cell_type": "markdown",
      "metadata": {
        "id": "50LjE4jymBHn"
      },
      "source": [
        "Train the model"
      ]
    },
    {
      "cell_type": "code",
      "execution_count": null,
      "metadata": {
        "id": "-0TS4sSTlyrk"
      },
      "outputs": [],
      "source": [
        "model.train(input_fn=lambda:train_input_fn(X_train, y_train, batch_size), steps=train_steps)"
      ]
    },
    {
      "cell_type": "markdown",
      "metadata": {
        "id": "fnibVSWuqMgV"
      },
      "source": [
        "Evaluate the model"
      ]
    },
    {
      "cell_type": "code",
      "execution_count": null,
      "metadata": {
        "id": "ZbSZMOvzqIfa"
      },
      "outputs": [],
      "source": [
        "# Evaluate the model.\n",
        "eval_result = model.evaluate(\n",
        "    input_fn=lambda:eval_input_fn(X_test, y_test, batch_size))\n",
        "\n",
        "print('\\nTest set accuracy: {accuracy:0.2f}\\n'.format(**eval_result))\n",
        "\n",
        "#Data for final graph\n",
        "accuracy = eval_result['accuracy'] * 100\n",
        "methodDict['Neural Network'] = accuracy"
      ]
    },
    {
      "cell_type": "markdown",
      "metadata": {
        "id": "ThzYnW6MqU27"
      },
      "source": [
        "Making predictions (inferring) from the trained model"
      ]
    },
    {
      "cell_type": "code",
      "execution_count": null,
      "metadata": {
        "id": "uU3dQmR6qQmy"
      },
      "outputs": [],
      "source": [
        "predictions = list(model.predict(input_fn=lambda:eval_input_fn(X_train, y_train, batch_size=batch_size)))"
      ]
    },
    {
      "cell_type": "code",
      "execution_count": null,
      "metadata": {
        "id": "-v8sJZumqXhr"
      },
      "outputs": [],
      "source": [
        "# Generate predictions from the model\n",
        "template = ('\\nIndex: \"{}\", Prediction is \"{}\" ({:.1f}%), expected \"{}\"')\n",
        "\n",
        "# Dictionary for predictions\n",
        "col1 = []\n",
        "col2 = []\n",
        "col3 = []\n",
        "\n",
        "\n",
        "for idx, input, p in zip(X_train.index, y_train, predictions):\n",
        "    v  = p[\"class_ids\"][0]\n",
        "    class_id = p['class_ids'][0]\n",
        "    probability = p['probabilities'][class_id] # Probability\n",
        "\n",
        "    # Adding to dataframe\n",
        "    col1.append(idx) # Index\n",
        "    col2.append(v) # Prediction\n",
        "    col3.append(input) # Expecter\n",
        "\n",
        "\n",
        "    #print(template.format(idx, v, 100 * probability, input))\n",
        "\n",
        "\n",
        "results = pd.DataFrame({'index':col1, 'prediction':col2, 'expected':col3})\n",
        "results.head()"
      ]
    },
    {
      "cell_type": "markdown",
      "metadata": {
        "id": "jhxYxHNBqdxr"
      },
      "source": [
        "#Success method plot"
      ]
    },
    {
      "cell_type": "code",
      "execution_count": null,
      "metadata": {
        "id": "AMSTgbylqbqB"
      },
      "outputs": [],
      "source": [
        "def plotSuccess():\n",
        "    s = pd.Series(methodDict)\n",
        "    s = s.sort_values(ascending=False)\n",
        "    plt.figure(figsize=(12,8))\n",
        "    #Colors\n",
        "    ax = s.plot(kind='bar')\n",
        "    for p in ax.patches:\n",
        "        ax.annotate(str(round(p.get_height(),2)), (p.get_x() * 1.005, p.get_height() * 1.005))\n",
        "    plt.ylim([70.0, 90.0])\n",
        "    plt.xlabel('Method')\n",
        "    plt.ylabel('Percentage')\n",
        "    plt.title('Success of methods')\n",
        "\n",
        "    plt.show()"
      ]
    },
    {
      "cell_type": "code",
      "execution_count": null,
      "metadata": {
        "id": "HQr49POJqjaB"
      },
      "outputs": [],
      "source": [
        "plotSuccess()"
      ]
    },
    {
      "cell_type": "markdown",
      "metadata": {
        "id": "5DTiO76bqpC5"
      },
      "source": [
        "#Creating predictions on test set"
      ]
    },
    {
      "cell_type": "code",
      "execution_count": null,
      "metadata": {
        "id": "99yFgld3qlJo"
      },
      "outputs": [],
      "source": [
        "# Generate predictions with the best method\n",
        "clf = AdaBoostClassifier()\n",
        "clf.fit(X, y)\n",
        "dfTestPredictions = clf.predict(X_test)\n",
        "\n",
        "# Write predictions to csv file\n",
        "# We don't have any significative field so we save the index\n",
        "results = pd.DataFrame({'Index': X_test.index, 'Treatment': dfTestPredictions})\n",
        "# Save to file\n",
        "# This file will be visible after publishing in the output section\n",
        "results.to_csv('results.csv', index=False)\n",
        "results.head()"
      ]
    },
    {
      "cell_type": "markdown",
      "metadata": {
        "id": "2JrYnXrxqxmg"
      },
      "source": [
        "#Submission"
      ]
    },
    {
      "cell_type": "code",
      "execution_count": null,
      "metadata": {
        "id": "D6z7BzsVqsBh"
      },
      "outputs": [],
      "source": [
        "# We don't have any significative field so we save the index\n",
        "results = pd.DataFrame({'Index': X_test.index, 'Treatment': dfTestPredictions})\n",
        "results"
      ]
    },
    {
      "cell_type": "code",
      "execution_count": null,
      "metadata": {
        "id": "Mz6iIoxiq5Dq"
      },
      "outputs": [],
      "source": []
    }
  ],
  "metadata": {
    "colab": {
      "provenance": [],
      "toc_visible": true
    },
    "kernelspec": {
      "display_name": "Python 3",
      "name": "python3"
    },
    "language_info": {
      "name": "python"
    }
  },
  "nbformat": 4,
  "nbformat_minor": 0
}